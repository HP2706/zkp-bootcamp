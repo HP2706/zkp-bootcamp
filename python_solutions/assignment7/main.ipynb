{
 "cells": [
  {
   "cell_type": "code",
   "execution_count": 1,
   "metadata": {},
   "outputs": [],
   "source": [
    "import galois \n",
    "import numpy as np\n",
    "from py_ecc.bn128 import curve_order\n",
    "import sympy as sp\n",
    "\n",
    "# Use the curve_order from py_ecc.bn128\n",
    "GF = galois.GF(curve_order, primitive_element=5, verify=False)"
   ]
  },
  {
   "cell_type": "code",
   "execution_count": 2,
   "metadata": {},
   "outputs": [
    {
     "name": "stdout",
     "output_type": "stream",
     "text": [
      "phi(c * vector):\n",
      "-15143*x**4/77120512 + 103002623*x**3/2853458944 - 6089809345*x**2/2853458944 + 18864184135*x/407636992 - 2624503059/14558464\n",
      "\n",
      "c * phi(vector):\n",
      "-15143*x**4/77120512 + 103002623*x**3/2853458944 - 6089809345*x**2/2853458944 + 18864184135*x/407636992 - 2624503059/14558464\n",
      "\n",
      "Equality check:\n",
      "True\n"
     ]
    }
   ],
   "source": [
    "\n",
    "# EXERCISE 1\n",
    "def mul_point(point, scalar):\n",
    "    return point[0], point[1] * scalar\n",
    "\n",
    "def lagrange_interpolate(points):\n",
    "    x = sp.Symbol('x')\n",
    "    lagrange_poly = sp.interpolate(points, x)\n",
    "    return lagrange_poly\n",
    "\n",
    "def phi(vector, to_equation : bool = False):\n",
    "    # Assuming phi is the Lagrange interpolation\n",
    "    eq = lagrange_interpolate(vector)\n",
    "    if to_equation:\n",
    "        x = sp.Symbol('x')\n",
    "        #return as a python function\n",
    "        return sp.lambdify(x, eq)\n",
    "    else:\n",
    "        return eq\n",
    "\n",
    "# Test vectors and scalar\n",
    "\n",
    "vector = np.random.randint(0, 100, size=10)\n",
    "vector = [(coord_a, coord_b) for coord_a, coord_b in zip(vector[:len(vector)//2], vector[len(vector)//2:])]\n",
    "c = 3\n",
    "\n",
    "# Compute phi(c * vector)\n",
    "c_vector = [mul_point(x, c) for x in vector]\n",
    "phi_c_vector = phi(c_vector)\n",
    "\n",
    "# Compute c * phi(vector)\n",
    "phi_vector = phi(vector)\n",
    "c_phi_vector = c * phi_vector\n",
    "\n",
    "print(\"phi(c * vector):\")\n",
    "print(phi_c_vector)\n",
    "print(\"\\nc * phi(vector):\")\n",
    "print(c_phi_vector)\n",
    "print(\"\\nEquality check:\")\n",
    "print(phi_c_vector == c_phi_vector)\n",
    "\n",
    "\n"
   ]
  },
  {
   "cell_type": "code",
   "execution_count": 3,
   "metadata": {},
   "outputs": [
    {
     "name": "stdout",
     "output_type": "stream",
     "text": [
      "points [(1, 1), (2, 4), (3, 9), (4, 16)]\n",
      "[1, 0, 0]\n"
     ]
    }
   ],
   "source": [
    "def lagrange_interpolate(points):\n",
    "    print('points', points)\n",
    "    x = sp.Symbol('x')\n",
    "    lagrange_poly = sp.interpolate(points, x)\n",
    "    return lagrange_poly.as_poly().all_coeffs()\n",
    "\n",
    "# Test the updated function\n",
    "x = [1, 2, 3, 4]\n",
    "y = [1, 4, 9, 16]\n",
    "\n",
    "#lagrange coeffs\n",
    "coeffs = lagrange_interpolate(list(zip(x, y)))\n",
    "print(coeffs)"
   ]
  },
  {
   "cell_type": "code",
   "execution_count": 4,
   "metadata": {},
   "outputs": [
    {
     "name": "stdout",
     "output_type": "stream",
     "text": [
      "[0. 0. 0.]\n"
     ]
    }
   ],
   "source": [
    "def lagrange_interpolate(points):\n",
    "    x = sp.Symbol('x')\n",
    "    lagrange_poly = sp.interpolate(points, x)\n",
    "    if lagrange_poly.as_poly() is None:\n",
    "        return np.zeros(len(points))\n",
    "    return lagrange_poly.as_poly().all_coeffs()\n",
    "\n",
    "# Test the updated function\n",
    "x = [1, 2, 3]\n",
    "y = [0, 0, 0]\n",
    "coeffs = lagrange_interpolate(list(zip(x, y)))\n",
    "print(coeffs)\n"
   ]
  },
  {
   "cell_type": "code",
   "execution_count": 5,
   "metadata": {},
   "outputs": [],
   "source": [
    "# EXERCISE 2\n",
    "def interpolate_column(col, upper_bound : int) -> np.array:\n",
    "    xs = np.arange(1, upper_bound + 1)\n",
    "    lagrange_poly = lagrange_interpolate(list(zip(xs, col)))\n",
    "    return lagrange_poly\n",
    "    \n",
    "    #return galois.lagrange_poly(xs, col)\n",
    "import numpy as np\n",
    "import random\n",
    "import functools\n",
    "import typing as tp\n",
    "\n",
    "def matrix_to_polynomials(matrix : np.array) -> np.array:\n",
    "    func = functools.partial(interpolate_column, upper_bound=matrix.shape[1])\n",
    "    return np.apply_along_axis(func, 0, matrix)\n",
    "    \n",
    "# Define the matrices\n",
    "A = np.array([[0,0,3,0,0,0],\n",
    "               [0,0,0,0,1,0],\n",
    "               [0,0,1,0,0,0]])\n",
    "\n",
    "B = np.array([[0,0,1,0,0,0],\n",
    "               [0,0,0,1,0,0],\n",
    "               [0,0,0,5,0,0]])\n",
    "\n",
    "C = np.array([[0,0,0,0,1,0],\n",
    "               [0,0,0,0,0,1],\n",
    "               [-3,1,1,2,0,-1]])\n",
    "\n",
    "# pick values for x and y\n",
    "x = 100\n",
    "y = 100\n",
    "\n",
    "# this is our orignal formula\n",
    "out = 3 * x * x * y + 5 * x * y - x- 2*y + 3\n",
    "# the witness vector with the intermediate variables inside\n",
    "v1 = 3*x*x\n",
    "v2 = v1 * y\n",
    "w = np.array([1, out, x, y, v1, v2])\n",
    "\n",
    "result = C.dot(w) == np.multiply(A.dot(w),B.dot(w))\n",
    "assert result.all(), \"result contains an inequality\"\n",
    "\n",
    "def qap(\n",
    "    A : np.array, \n",
    "    B : np.array, \n",
    "    C : np.array, \n",
    "    w : np.array, \n",
    "    point : tuple[int, int]\n",
    "):\n",
    "    A_poly = tp.cast(np.array, matrix_to_polynomials(A))\n",
    "    B_poly = tp.cast(np.array, matrix_to_polynomials(B))\n",
    "    C_poly = tp.cast(np.array, matrix_to_polynomials(C))\n",
    "\n",
    "    n_rows = A.shape[0]\n",
    "    term1 = C_poly.dot(w)\n",
    "    term2 = A_poly.dot(w)\n",
    "    term3 = B_poly.dot(w)\n",
    "    \n",
    "    x = sp.Symbol('x')\n",
    "    t = sp.prod(x - i for i in range(1, n_rows + 1))\n",
    "    \n",
    "    h = (term1 * term2 - term3) // t\n",
    "    \n",
    "    left_side = term1 * term2\n",
    "    right_side = term3 + h * t\n",
    "    \n",
    "    left_side_fn = sp.lambdify(x, left_side)\n",
    "    right_side_fn = sp.lambdify(x, right_side)\n",
    "    \n",
    "    assert np.isclose(left_side_fn(point[0]), right_side_fn(point[0]), rtol=1e-9), \"Left side is not approximately equal to right side\"\n",
    "    return True\n"
   ]
  },
  {
   "cell_type": "code",
   "execution_count": 11,
   "metadata": {},
   "outputs": [
    {
     "name": "stdout",
     "output_type": "stream",
     "text": [
      "term.degree 2\n",
      "Left side: [GF(21888242871839275222246405745257275088548364400416034343698204186575802535617,\n",
      "   order=21888242871839275222246405745257275088548364400416034343698204186575808495617), GF(41700000,\n",
      "   order=21888242871839275222246405745257275088548364400416034343698204186575808495617), GF(21888242871839275222246405745257275088548364400416034343698204186575704335617,\n",
      "   order=21888242871839275222246405745257275088548364400416034343698204186575808495617), GF(112950000,\n",
      "   order=21888242871839275222246405745257275088548364400416034343698204186575808495617), GF(21888242871839275222246405745257275088548364400416034343698204186575763995617,\n",
      "   order=21888242871839275222246405745257275088548364400416034343698204186575808495617)]\n",
      "Right side: [GF(21888242871839275222246405745257275088548364400416034343698204186575802535617,\n",
      "   order=21888242871839275222246405745257275088548364400416034343698204186575808495617), GF(41700000,\n",
      "   order=21888242871839275222246405745257275088548364400416034343698204186575808495617), GF(21888242871839275222246405745257275088548364400416034343698204186575704335617,\n",
      "   order=21888242871839275222246405745257275088548364400416034343698204186575808495617), GF(112950000,\n",
      "   order=21888242871839275222246405745257275088548364400416034343698204186575808495617), GF(21888242871839275222246405745257275088548364400416034343698204186575763995617,\n",
      "   order=21888242871839275222246405745257275088548364400416034343698204186575808495617)]\n"
     ]
    },
    {
     "data": {
      "text/plain": [
       "True"
      ]
     },
     "execution_count": 11,
     "metadata": {},
     "output_type": "execute_result"
    }
   ],
   "source": [
    "#exercise 3\n",
    "\n",
    "def mat_to_finite_field(mat : np.array) -> np.array:\n",
    "    return (mat + curve_order) % curve_order\n",
    "\n",
    "def inner_product_polynomials_with_witness(polys, witness):\n",
    "    mul_ = lambda x, y: x * y\n",
    "    sum_ = lambda x, y: x + y\n",
    "    return functools.reduce(sum_, map(mul_, polys, witness))\n",
    "\n",
    "\n",
    "def qap_finite_field(A, B, C, w):\n",
    "    n_rows = A.shape[0]\n",
    "    \n",
    "    def interpolate_column(col):\n",
    "        xs = GF(np.arange(1, n_rows + 1))\n",
    "        return galois.lagrange_poly(xs, col)\n",
    "\n",
    "    A_polys = np.apply_along_axis(interpolate_column, 0, A)\n",
    "    B_polys = np.apply_along_axis(interpolate_column, 0, B)\n",
    "    C_polys = np.apply_along_axis(interpolate_column, 0, C)\n",
    "    term1 = inner_product_polynomials_with_witness(A_polys, w)\n",
    "    term2 = inner_product_polynomials_with_witness(B_polys, w)\n",
    "    term3 = inner_product_polynomials_with_witness(C_polys, w)\n",
    "    print(\"term.degree\", term1.degree)\n",
    "    t = galois.Poly([1], field=GF)\n",
    "    for i in range(1, n_rows + 1):\n",
    "        t *= galois.Poly([1, curve_order - i], field=GF)\n",
    "\n",
    "    h = (term1 * term2 - term3) // t\n",
    "\n",
    "    left_side = term1 * term2\n",
    "    right_side = term3 + h * t\n",
    "\n",
    "    print(\"Left side:\", list(left_side.coeffs))\n",
    "    print(\"Right side:\", list(right_side.coeffs))\n",
    "\n",
    "    assert left_side == right_side, \"Left side is not equal to right side\"\n",
    "    return True\n",
    "\n",
    "# Call the function\n",
    "F_A = GF(mat_to_finite_field(A))\n",
    "F_B = GF(mat_to_finite_field(B))\n",
    "F_C = GF(mat_to_finite_field(C))\n",
    "F_W = GF(mat_to_finite_field(w))\n",
    "\n",
    "qap_finite_field(F_A, F_B, F_C, F_W)"
   ]
  }
 ],
 "metadata": {
  "kernelspec": {
   "display_name": "ml",
   "language": "python",
   "name": "python3"
  },
  "language_info": {
   "codemirror_mode": {
    "name": "ipython",
    "version": 3
   },
   "file_extension": ".py",
   "mimetype": "text/x-python",
   "name": "python",
   "nbconvert_exporter": "python",
   "pygments_lexer": "ipython3",
   "version": "3.11.9"
  }
 },
 "nbformat": 4,
 "nbformat_minor": 2
}
