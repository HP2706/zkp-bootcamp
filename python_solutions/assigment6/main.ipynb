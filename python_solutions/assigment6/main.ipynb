{
 "cells": [
  {
   "cell_type": "code",
   "execution_count": 1,
   "metadata": {},
   "outputs": [],
   "source": [
    "import numpy as np"
   ]
  },
  {
   "cell_type": "code",
   "execution_count": 25,
   "metadata": {},
   "outputs": [
    {
     "name": "stdout",
     "output_type": "stream",
     "text": [
      "A.shape:  (5, 7)\n",
      "B.shape:  (5, 7)\n",
      "C.shape:  (5, 7)\n",
      "W.shape:  (7,)\n",
      "left [  9   9   9  81 729]\n",
      "right [  9   9   9  81 603]\n",
      "False\n"
     ]
    }
   ],
   "source": [
    "# problem 2\n",
    "\n",
    "def verify_r1cs(A : np.ndarray, B : np.ndarray, C : np.ndarray, w : np.ndarray):\n",
    "    '''\n",
    "    A, B, C are matrices with shape (n_equations, n_variables)\n",
    "    w is a vector with shape (n_variables,)\n",
    "    returns True if Aw * Bw = Cw, False otherwise\n",
    "    '''\n",
    "    left = np.dot(A, w) * np.dot(B, w)\n",
    "    \n",
    "    print(\"left\", left)\n",
    "    right = np.dot(C, w)\n",
    "    print(\"right\", right)\n",
    "    return np.allclose(left, right)\n",
    "    \n",
    "    \n",
    "A = np.array([\n",
    "    [0, 1, 0, 0, 0, 0, 0],\n",
    "    [0, 1, 0, 0, 0, 0, 0],\n",
    "    [0, 0, 1, 0, 0, 0, 0],\n",
    "    [0, 0, 0, 1, 0, 0, 0],\n",
    "    [0, 0, 0, 0, 1, 0, 0]\n",
    "])\n",
    "\n",
    "B = np.array([\n",
    "    [0, 1, 0, 0, 0, 0, 0],\n",
    "    [0, 0, 1, 0, 0, 0, 0],\n",
    "    [0, 0, 1, 0, 0, 0, 0],\n",
    "    [0, 0, 0, 0, 0, 1, 0],\n",
    "    [0, 0, 0, 0, 0, 0, 1]\n",
    "])\n",
    "\n",
    "C = np.array([\n",
    "    [0, 0, 0, 1, 0, 0, 0],\n",
    "    [0, 0, 0, 0, 1, 0, 0],\n",
    "    [0, 0, 0, 0, 0, 1, 0],\n",
    "    [0, 0, 0, 0, 0, 0, 1],\n",
    "    [36, 0, 0, 0, -36, 0, 11]\n",
    "])\n",
    "\n",
    "\n",
    "def parameterize_witness(x, y):\n",
    "    a = x*x\n",
    "    b = x*y\n",
    "    c = y*y\n",
    "    d = a*c\n",
    "    \n",
    "    return np.array([1, x, y, a, b, c, d])\n",
    "\n",
    "# The witness vector W\n",
    "W = parameterize_witness(3, 3)\n",
    "\n",
    "\n",
    "print(\"A.shape: \", A.shape)\n",
    "print(\"B.shape: \", B.shape)\n",
    "print(\"C.shape: \", C.shape)\n",
    "print(\"W.shape: \", W.shape)\n",
    "\n",
    "print(verify_r1cs(A, B, C, W))\n"
   ]
  }
 ],
 "metadata": {
  "kernelspec": {
   "display_name": "Python 3",
   "language": "python",
   "name": "python3"
  },
  "language_info": {
   "codemirror_mode": {
    "name": "ipython",
    "version": 3
   },
   "file_extension": ".py",
   "mimetype": "text/x-python",
   "name": "python",
   "nbconvert_exporter": "python",
   "pygments_lexer": "ipython3",
   "version": "3.11.9"
  }
 },
 "nbformat": 4,
 "nbformat_minor": 2
}
