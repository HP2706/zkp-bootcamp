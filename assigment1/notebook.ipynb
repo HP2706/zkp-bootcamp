{
 "cells": [
  {
   "cell_type": "code",
   "execution_count": null,
   "metadata": {},
   "outputs": [],
   "source": [
    "import math\n",
    "\n",
    "\n",
    "def mod_multiply(a, b, p):\n",
    "    return (a * b) % p\n",
    "\n",
    "p = 71\n",
    "\n",
    "def mod_mul(a, b):\n",
    "    return (a * b) % p\n",
    "\n",
    "# Coefficients\n",
    "x4 = mod_mul(52, 40)\n",
    "x3 = (mod_mul(52, 40) + mod_mul(24, 40)) % p\n",
    "x2 = (mod_mul(52, 58) + mod_mul(24, 40) + mod_mul(61, 40)) % p\n",
    "x1 = (mod_mul(24, 58) + mod_mul(61, 40)) % p\n",
    "x0 = mod_mul(61, 58)\n",
    "\n",
    "print(f\"x^4: {x4}\")\n",
    "print(f\"x^3: {x3}\")\n",
    "print(f\"x^2: {x2}\")\n",
    "print(f\"x^1: {x1}\")\n",
    "print(f\"x^0: {x0}\")\n",
    "print(f\"\\nFull polynomial:\")"
   ]
  },
  {
   "cell_type": "code",
   "execution_count": null,
   "metadata": {},
   "outputs": [],
   "source": [
    "import galois\n",
    "from galois import Poly, GF\n",
    "\n",
    "Field = GF(71)\n",
    "\n",
    "p_coeffs = Field([52, 24, 61])  # 52x^2 + 24x + 61\n",
    "q_coeffs = Field([40, 40, 58])  # 40x^2 + 40x + 58\n",
    "\n",
    "p = Poly(p_coeffs)\n",
    "q = Poly(q_coeffs)\n",
    "\n",
    "p_roots = p.roots()\n",
    "q_roots = q.roots()\n",
    "\n",
    "print(\"Roots of p(x):\", p_roots)\n",
    "print(\"Roots of q(x):\", q_roots)\n",
    "\n",
    "pq = p * q\n",
    "\n",
    "pq_roots = pq.roots()\n",
    "\n",
    "print(\"Roots of p(x) * q(x):\", pq_roots)"
   ]
  },
  {
   "cell_type": "code",
   "execution_count": null,
   "metadata": {},
   "outputs": [],
   "source": [
    "import galois\n",
    "\n",
    "GF = galois.GF(71)\n",
    "\n",
    "x = GF([0, 1, 2])\n",
    "y = GF([1, 2, 1])\n",
    "\n",
    "f = galois.lagrange_poly(x, y)\n",
    "\n",
    "print(f\"Lagrange polynomial: {f}\")\n",
    "\n",
    "# Verify the polynomial passes through the given points\n",
    "for xi, yi in zip(x, y):\n",
    "    if not f(xi) == yi:\n",
    "        assert False, f\"f({xi}) = {f(xi)} (expected {yi})\"\n"
   ]
  },
  {
   "cell_type": "code",
   "execution_count": null,
   "metadata": {},
   "outputs": [],
   "source": [
    "def f(x):\n",
    "    return (70 * x**2 + 2 * x + 1) % 71\n",
    "\n",
    "print(f(2))"
   ]
  }
 ],
 "metadata": {
  "kernelspec": {
   "display_name": "ml",
   "language": "python",
   "name": "python3"
  },
  "language_info": {
   "codemirror_mode": {
    "name": "ipython",
    "version": 3
   },
   "file_extension": ".py",
   "mimetype": "text/x-python",
   "name": "python",
   "nbconvert_exporter": "python",
   "pygments_lexer": "ipython3",
   "version": "3.11.9"
  }
 },
 "nbformat": 4,
 "nbformat_minor": 2
}
