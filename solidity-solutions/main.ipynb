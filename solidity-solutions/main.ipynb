{
 "cells": [
  {
   "cell_type": "code",
   "execution_count": 4,
   "metadata": {},
   "outputs": [],
   "source": [
    "#for quick calculations\n",
    "from py_ecc.bn128 import multiply, add, neg, eq, pairing, add, curve_order, G1, G2"
   ]
  },
  {
   "cell_type": "code",
   "execution_count": 10,
   "metadata": {},
   "outputs": [
    {
     "name": "stdout",
     "output_type": "stream",
     "text": [
      "-ab + cd + ef = -24 + 12 + 12 = 0\n",
      "//-aG1 =  (3932705576657793550893430333273221375907985235130430286685735064194643946083, 3074479578807018676308648798898008971658476598105910396234953551932693339430)\n",
      "//bG2 =  ((2725019753478801796453339367788033689375851816420509565303521482350756874229, 7273165102799931111715871471550377909735733521218303035754523677688038059653), (2512659008974376214222774206987427162027254181373325676825515531566330959255, 957874124722006818841961785324909313781880061366718538693995380805373202866))\n",
      "//cG1 =  (4503322228978077916651710446042370109107355802721800704639343137502100212473, 6132642251294427119375180147349983541569387941788025780665104001559216576968)\n",
      "//dG2 =  ((18029695676650738226693292988307914797657423701064905010927197838374790804409, 14583779054894525174450323658765874724019480979794335525732096752006891875705), (2140229616977736810657479771656733941598412651537078903776637920509952744750, 11474861747383700316476719153975578001603231366361248090558603872215261634898))\n",
      "//eG1 =  (3353031288059533942658390886683067124040920775575537747144343083137631628272, 19321533766552368860946552437480515441416830039777911637913418824951667761761)\n",
      "//fG2 =  ((18936818173480011669507163011118288089468827259971823710084038754632518263340, 18556147586753789634670778212244811446448229326945855846642767021074501673839), (18825831177813899069786213865729385895767511805925522466244528695074736584695, 13775476761357503446238925910346030822904460488609979964814810757616608848118))\n"
     ]
    }
   ],
   "source": [
    "from py_ecc.bn128 import neg, multiply, G1, G2\n",
    "a = 8\n",
    "b = 3\n",
    "c = 6\n",
    "d = 2\n",
    "e = 3\n",
    "f = 4\n",
    "\n",
    "print(f\"-ab + cd + ef = {-a*b} + {c*d} + {e*f} = {-a*b + c*d + e*f}\")\n",
    "# negate G1 * a to make the equation sum up to 0\n",
    "\n",
    "print('//-aG1 = ', neg(multiply(G1, a)))\n",
    "print('//bG2 = ', multiply(G2, b))\n",
    "print('//cG1 = ', multiply(G1, c))\n",
    "print('//dG2 = ', multiply(G2, d))\n",
    "print('//eG1 = ', multiply(G1, e))\n",
    "print('//fG2 = ', multiply(G2, f))\n"
   ]
  },
  {
   "cell_type": "code",
   "execution_count": null,
   "metadata": {},
   "outputs": [],
   "source": [
    "from py_ecc.bn128 import neg, multiply, G1, G2\n",
    "a = 4\n",
    "b = 3\n",
    "c = 6\n",
    "d = 2\n",
    "e = 0\n",
    "f = 0\n",
    "\n",
    "# negate G1 * a to make the equation sum up to 0\n",
    "print('//-aG1 = ', neg(multiply(G1, a)))\n",
    "print('//bG2 = ', multiply(G2, b))\n",
    "print('//cG1 = ', multiply(G1, c))\n",
    "print('//dG2 = ', multiply(G2, d))\n",
    "print('//eG1 = ', multiply(G1, e))\n",
    "print('//fG2 = ', multiply(G2, f))\n"
   ]
  },
  {
   "cell_type": "code",
   "execution_count": 3,
   "metadata": {},
   "outputs": [
    {
     "data": {
      "text/plain": [
       "21888242871839275222246405745257275088548364400416034343698204186575808495617"
      ]
     },
     "execution_count": 3,
     "metadata": {},
     "output_type": "execute_result"
    }
   ],
   "source": [
    "from py_ecc.bn128 import curve_order\n",
    "curve_order"
   ]
  }
 ],
 "metadata": {
  "kernelspec": {
   "display_name": "Python 3",
   "language": "python",
   "name": "python3"
  },
  "language_info": {
   "codemirror_mode": {
    "name": "ipython",
    "version": 3
   },
   "file_extension": ".py",
   "mimetype": "text/x-python",
   "name": "python",
   "nbconvert_exporter": "python",
   "pygments_lexer": "ipython3",
   "version": "3.11.9"
  }
 },
 "nbformat": 4,
 "nbformat_minor": 2
}
